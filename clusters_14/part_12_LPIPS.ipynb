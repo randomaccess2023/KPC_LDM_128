{
 "cells": [
  {
   "cell_type": "markdown",
   "id": "faceec75",
   "metadata": {},
   "source": [
    "# <center>This `.ipynb` file contains the code for computing the LPIPS metric</center>"
   ]
  },
  {
   "cell_type": "markdown",
   "id": "d2a6342b",
   "metadata": {},
   "source": [
    "### 1. Import the required libraries"
   ]
  },
  {
   "cell_type": "code",
   "execution_count": 1,
   "id": "9663f6ef",
   "metadata": {},
   "outputs": [],
   "source": [
    "import os\n",
    "import sys\n",
    "import cv2\n",
    "\n",
    "import torch\n",
    "from torchvision import transforms\n",
    "\n",
    "sys.path.insert(0, '..')\n",
    "from pfiles.lpips_metric import LPIPS"
   ]
  },
  {
   "cell_type": "markdown",
   "id": "366efc99",
   "metadata": {},
   "source": [
    "### 2. Custom function for calculating the `LPIPS` metric"
   ]
  },
  {
   "cell_type": "code",
   "execution_count": 2,
   "id": "357d910e",
   "metadata": {},
   "outputs": [],
   "source": [
    "def compute_dataset_lpips(original_dir, generated_dir):\n",
    "    \n",
    "    loss_fn = LPIPS().to(\"cuda\" if torch.cuda.is_available() else \"cpu\")\n",
    "\n",
    "    transform = transforms.Compose([\n",
    "        transforms.ToTensor(),\n",
    "        transforms.Normalize(mean=[0.5, 0.5, 0.5], std=[0.5, 0.5, 0.5])\n",
    "    ])\n",
    "\n",
    "    def filter_images(directory):\n",
    "        return sorted(\n",
    "            [f for f in os.listdir(directory) \n",
    "             if f.lower().endswith(('.jpg')) and \".ipynb_checkpoints\" not in f]\n",
    "        )\n",
    "\n",
    "    original_images = filter_images(original_dir)\n",
    "    generated_images = filter_images(generated_dir)\n",
    "\n",
    "    if len(original_images) != len(generated_images):\n",
    "        raise ValueError(\"Number of images in original and generated datasets do not match.\")\n",
    "\n",
    "    total_lpips = 0\n",
    "    count = 0\n",
    "\n",
    "    for orig_img_name, gen_img_name in zip(original_images, generated_images):\n",
    "        orig_img_path = os.path.join(original_dir, orig_img_name)\n",
    "        gen_img_path = os.path.join(generated_dir, gen_img_name)\n",
    "\n",
    "        orig_img = cv2.imread(orig_img_path, cv2.IMREAD_COLOR)\n",
    "        gen_img = cv2.imread(gen_img_path, cv2.IMREAD_COLOR)\n",
    "\n",
    "        orig_img = cv2.cvtColor(orig_img, cv2.COLOR_BGR2RGB)\n",
    "        gen_img = cv2.cvtColor(gen_img, cv2.COLOR_BGR2RGB)\n",
    "\n",
    "        if orig_img.shape != gen_img.shape:\n",
    "            gen_img = cv2.resize(gen_img, (orig_img.shape[1], orig_img.shape[0]))\n",
    "\n",
    "        orig_tensor = transform(orig_img).unsqueeze(0)  # add batch dimension\n",
    "        gen_tensor = transform(gen_img).unsqueeze(0)    # add batch dimension\n",
    "\n",
    "        device = \"cuda\" if torch.cuda.is_available() else \"cpu\"\n",
    "        orig_tensor = orig_tensor.to(device)\n",
    "        gen_tensor = gen_tensor.to(device)\n",
    "\n",
    "        lpips_score = loss_fn(orig_tensor, gen_tensor).item()\n",
    "        total_lpips += lpips_score\n",
    "        count += 1\n",
    "\n",
    "    avg_lpips = total_lpips / count if count > 0 else 0\n",
    "    return avg_lpips"
   ]
  },
  {
   "cell_type": "markdown",
   "id": "eb8a98bb",
   "metadata": {},
   "source": [
    "### 3. Show the result"
   ]
  },
  {
   "cell_type": "code",
   "execution_count": 3,
   "id": "94659636",
   "metadata": {},
   "outputs": [
    {
     "name": "stdout",
     "output_type": "stream",
     "text": [
      "Total images in original_dir: 10000\n",
      "Total images in generated_dir: 10000\n",
      "Average LPIPS: 0.4923\n"
     ]
    }
   ],
   "source": [
    "original_dir = '../org'\n",
    "print('Total images in original_dir:', len(next(os.walk(original_dir))[2]))\n",
    "\n",
    "generated_dir =  'gen_14'\n",
    "print('Total images in generated_dir:', len(next(os.walk(generated_dir))[2]))\n",
    "\n",
    "avg_lpips_score = compute_dataset_lpips(original_dir, generated_dir)\n",
    "print(f\"Average LPIPS: {avg_lpips_score:.4f}\")"
   ]
  }
 ],
 "metadata": {
  "kernelspec": {
   "display_name": "Python 3 (ipykernel)",
   "language": "python",
   "name": "python3"
  },
  "language_info": {
   "codemirror_mode": {
    "name": "ipython",
    "version": 3
   },
   "file_extension": ".py",
   "mimetype": "text/x-python",
   "name": "python",
   "nbconvert_exporter": "python",
   "pygments_lexer": "ipython3",
   "version": "3.9.13"
  }
 },
 "nbformat": 4,
 "nbformat_minor": 5
}
