{
 "cells": [
  {
   "cell_type": "markdown",
   "id": "93117c1f",
   "metadata": {},
   "source": [
    "# <center>This `.ipynb` file contains the code for extracting the latent space using the second finetuning of the `Classifier`</center>"
   ]
  },
  {
   "cell_type": "markdown",
   "id": "efb35d7e",
   "metadata": {},
   "source": [
    "### 1. Import the required libraries"
   ]
  },
  {
   "cell_type": "code",
   "execution_count": 1,
   "id": "d81f5744",
   "metadata": {},
   "outputs": [],
   "source": [
    "import torch\n",
    "from torch import nn\n",
    "\n",
    "from torchvision import transforms\n",
    "from torchvision.utils import make_grid\n",
    "\n",
    "import sys\n",
    "import os\n",
    "import random\n",
    "import numpy as np\n",
    "import pandas as pd\n",
    "\n",
    "import matplotlib.pyplot as plt\n",
    "from tqdm import tqdm\n",
    "\n",
    "sys.path.insert(0, '..')\n",
    "from pfiles.unet_cond_base import UNet\n",
    "from pfiles.vqvae import VQVAE\n",
    "from pfiles.linear_noise_scheduler import LinearNoiseScheduler"
   ]
  },
  {
   "cell_type": "markdown",
   "id": "fcd0d830",
   "metadata": {},
   "source": [
    "### 2. Define the device"
   ]
  },
  {
   "cell_type": "code",
   "execution_count": 2,
   "id": "f560afbb",
   "metadata": {},
   "outputs": [
    {
     "name": "stdout",
     "output_type": "stream",
     "text": [
      "Device is: cuda\n"
     ]
    }
   ],
   "source": [
    "device = torch.device('cuda' if torch.cuda.is_available() else 'cpu')\n",
    "print('Device is:', device)"
   ]
  },
  {
   "cell_type": "markdown",
   "id": "991496c1",
   "metadata": {},
   "source": [
    "### 3. Set different hyperparameters"
   ]
  },
  {
   "cell_type": "code",
   "execution_count": 3,
   "id": "35cba90c",
   "metadata": {},
   "outputs": [],
   "source": [
    "seed = 765\n",
    "\n",
    "random.seed(seed)\n",
    "np.random.seed(seed)\n",
    "torch.manual_seed(seed)\n",
    "\n",
    "if device == 'cuda':\n",
    "    torch.cuda.manual_seed(seed)\n",
    "    torch.cuda.manual_seed_all(seed)"
   ]
  },
  {
   "cell_type": "code",
   "execution_count": 4,
   "id": "5e608da4",
   "metadata": {},
   "outputs": [],
   "source": [
    "select_batch_size = 16\n",
    "rgb_input = 3\n",
    "z_channels = 16\n",
    "n_clusters = 14 # change it to 10, 11, 12, 13, 15, or 16 for other partitions"
   ]
  },
  {
   "cell_type": "markdown",
   "id": "c05e389b",
   "metadata": {},
   "source": [
    "### 4. Load the dataset"
   ]
  },
  {
   "cell_type": "code",
   "execution_count": 5,
   "id": "a1a604a6",
   "metadata": {},
   "outputs": [
    {
     "name": "stdout",
     "output_type": "stream",
     "text": [
      "/project/dsc-is/nono/Documents/kpc/dat0/slice128_Block2_11K.npy\n",
      "(11000, 128, 128, 3)\n"
     ]
    }
   ],
   "source": [
    "dir_src = '/project/dsc-is/nono/Documents/kpc/dat0'\n",
    "data_src = 'slice128_Block2_11K.npy'\n",
    "\n",
    "print(os.path.join(dir_src, data_src))\n",
    "\n",
    "kpc_dataset = np.load(os.path.join(dir_src, data_src))\n",
    "kpc_dataset = kpc_dataset[:, 0, :, :, :]\n",
    "\n",
    "print(kpc_dataset.shape)\n",
    "N_SAMPLE, HEIGHT, WIDTH, CHANNELS = kpc_dataset.shape"
   ]
  },
  {
   "cell_type": "code",
   "execution_count": 6,
   "id": "67758ab4",
   "metadata": {},
   "outputs": [],
   "source": [
    "index_range = np.arange(N_SAMPLE)\n",
    "split = np.array_split(index_range, 11)\n",
    "test_dataset = split[10]\n",
    "training_dataset = np.setdiff1d(index_range, test_dataset)"
   ]
  },
  {
   "cell_type": "code",
   "execution_count": 7,
   "id": "97ad91a8",
   "metadata": {},
   "outputs": [
    {
     "name": "stdout",
     "output_type": "stream",
     "text": [
      "Length of the training dataset: 10000\n",
      "Length of the test dataset: 1000\n"
     ]
    }
   ],
   "source": [
    "print('Length of the training dataset:', len(training_dataset))\n",
    "print('Length of the test dataset:', len(test_dataset))"
   ]
  },
  {
   "cell_type": "markdown",
   "id": "c6030cda",
   "metadata": {},
   "source": [
    "### 5. Custom functions for extracting batches of samples from the dataset"
   ]
  },
  {
   "cell_type": "code",
   "execution_count": 8,
   "id": "d989abbe",
   "metadata": {},
   "outputs": [],
   "source": [
    "def make_batch_list(idx, n_batch=10, batch_size=None, shuffle=True):\n",
    "    if shuffle:\n",
    "        np.random.shuffle(idx)\n",
    "    if batch_size is not None:\n",
    "        n_batch = len(idx) // batch_size\n",
    "    batch_list = np.array_split(idx, n_batch)\n",
    "    return batch_list"
   ]
  },
  {
   "cell_type": "code",
   "execution_count": 9,
   "id": "b41ea4a4",
   "metadata": {},
   "outputs": [],
   "source": [
    "transform = transforms.ToTensor()\n",
    "\n",
    "def generate_batch(idx, kpc_dataset):\n",
    "    tmp = []\n",
    "    for i in idx:\n",
    "        xxx = transform(kpc_dataset[i])\n",
    "        tmp.append(xxx)\n",
    "    xxx_batch = torch.stack(tmp, dim=0)\n",
    "    return xxx_batch"
   ]
  },
  {
   "cell_type": "markdown",
   "id": "6e5d885d",
   "metadata": {},
   "source": [
    "### 6. Set up directory for saving models"
   ]
  },
  {
   "cell_type": "code",
   "execution_count": 10,
   "id": "531e3d8b",
   "metadata": {},
   "outputs": [],
   "source": [
    "task_name = 'models_14'\n",
    "\n",
    "if not os.path.exists(task_name):\n",
    "    os.mkdir(task_name)"
   ]
  },
  {
   "cell_type": "markdown",
   "id": "c6fe17e4",
   "metadata": {},
   "source": [
    "### 7. Neural network for deep learning-based clustering"
   ]
  },
  {
   "cell_type": "code",
   "execution_count": 11,
   "id": "cf44f20d",
   "metadata": {},
   "outputs": [],
   "source": [
    "class Classifier(nn.Module):\n",
    "    def __init__(self):\n",
    "        super(Classifier, self).__init__()\n",
    "        \n",
    "        self.classifier = nn.Sequential()\n",
    "        self.classifier.add_module('conv1', nn.Conv2d(in_channels=z_channels, out_channels=128, kernel_size=4, stride=2,\n",
    "                                                      padding=1))\n",
    "        self.classifier.add_module('bnor1', nn.BatchNorm2d(num_features=128, affine=True, track_running_stats=True))\n",
    "        self.classifier.add_module('lrel1', nn.LeakyReLU(negative_slope=0.1, inplace=True))\n",
    "        self.classifier.add_module('conv2', nn.Conv2d(in_channels=128, out_channels=128, kernel_size=4, stride=2, padding=1))\n",
    "        self.classifier.add_module('bnor2', nn.BatchNorm2d(num_features=128, affine=True, track_running_stats=True))\n",
    "        self.classifier.add_module('lrel2', nn.LeakyReLU(negative_slope=0.1, inplace=True))\n",
    "        self.classifier.add_module('conv3', nn.Conv2d(in_channels=128, out_channels=128, kernel_size=4, stride=2, padding=1))\n",
    "        self.classifier.add_module('lrel3', nn.LeakyReLU(negative_slope=0.1, inplace=True))\n",
    "        self.classifier.add_module('conv4', nn.Conv2d(in_channels=128, out_channels=n_clusters, kernel_size=4, stride=1,\n",
    "                                                      padding=0))\n",
    "        self.classifier.add_module('lrel4', nn.LeakyReLU(negative_slope=0.1, inplace=True))\n",
    "        \n",
    "    def forward(self, lat):\n",
    "        out = self.classifier(lat)\n",
    "        return out"
   ]
  },
  {
   "cell_type": "markdown",
   "id": "050638b1",
   "metadata": {},
   "source": [
    "### 8. Instantiate `VQVAE`, and `Classifier` architecture"
   ]
  },
  {
   "cell_type": "code",
   "execution_count": 12,
   "id": "23703403",
   "metadata": {},
   "outputs": [
    {
     "name": "stdout",
     "output_type": "stream",
     "text": [
      "Loaded vq_vae checkpoint\n"
     ]
    },
    {
     "data": {
      "text/plain": [
       "<All keys matched successfully>"
      ]
     },
     "execution_count": 12,
     "metadata": {},
     "output_type": "execute_result"
    }
   ],
   "source": [
    "vq_vae = VQVAE(im_channels=rgb_input).to(device)\n",
    "vq_vae.eval()\n",
    "print('Loaded vq_vae checkpoint')\n",
    "vq_vae.load_state_dict(torch.load(os.path.join('../kpc_ldm', 'vqvae_autoencoder_ckpt.pth'), map_location=device,\n",
    "                                  weights_only=True))"
   ]
  },
  {
   "cell_type": "code",
   "execution_count": 13,
   "id": "148f9502",
   "metadata": {},
   "outputs": [
    {
     "name": "stdout",
     "output_type": "stream",
     "text": [
      "Loaded model_cl finetuning2 checkpoint\n"
     ]
    },
    {
     "data": {
      "text/plain": [
       "<All keys matched successfully>"
      ]
     },
     "execution_count": 13,
     "metadata": {},
     "output_type": "execute_result"
    }
   ],
   "source": [
    "model_cl = Classifier().to(device)\n",
    "model_cl.eval()\n",
    "print('Loaded model_cl finetuning2 checkpoint')\n",
    "model_cl.load_state_dict(torch.load(os.path.join(task_name, 'classifier_finetuning2_ckpt_20250128_70_14.pth'),\n",
    "                                    map_location=device, weights_only=True))"
   ]
  },
  {
   "cell_type": "markdown",
   "id": "08377d1e",
   "metadata": {},
   "source": [
    "### 9. Extract latent space"
   ]
  },
  {
   "cell_type": "code",
   "execution_count": 14,
   "id": "301bb43d",
   "metadata": {},
   "outputs": [
    {
     "name": "stdout",
     "output_type": "stream",
     "text": [
      "(10000, 16, 32, 32)\n"
     ]
    }
   ],
   "source": [
    "batch_list = make_batch_list(training_dataset, batch_size=select_batch_size, shuffle=False)\n",
    "hhh_list = []\n",
    "with torch.inference_mode():\n",
    "    for idx_tmp in batch_list:\n",
    "        xxx_tmp = generate_batch(idx_tmp, kpc_dataset)\n",
    "        im = xxx_tmp.to(device)\n",
    "        vq_vae.eval()\n",
    "        im, _ = vq_vae.encode(im)\n",
    "        hhh_list.append(torch.softmax(im, dim=1).detach().cpu().numpy())\n",
    "    hhh = np.concatenate(hhh_list, axis=0)\n",
    "    print(hhh.shape)"
   ]
  },
  {
   "cell_type": "code",
   "execution_count": 15,
   "id": "a57a1fa0",
   "metadata": {},
   "outputs": [
    {
     "data": {
      "text/plain": [
       "(10000, 16)"
      ]
     },
     "execution_count": 15,
     "metadata": {},
     "output_type": "execute_result"
    }
   ],
   "source": [
    "a = np.mean(hhh, axis=3)\n",
    "a = np.mean(a, axis=2)\n",
    "a.shape"
   ]
  },
  {
   "cell_type": "markdown",
   "id": "7795754e",
   "metadata": {},
   "source": [
    "### 10. Access the cluster space"
   ]
  },
  {
   "cell_type": "code",
   "execution_count": 16,
   "id": "dbbb7dc3",
   "metadata": {},
   "outputs": [
    {
     "name": "stdout",
     "output_type": "stream",
     "text": [
      "(10000, 14)\n"
     ]
    }
   ],
   "source": [
    "batch_list = make_batch_list(training_dataset, batch_size=select_batch_size, shuffle=False)\n",
    "vvv_list = []\n",
    "with torch.inference_mode():\n",
    "    for idx_tmp in batch_list:\n",
    "        xxx_tmp = generate_batch(idx_tmp, kpc_dataset)\n",
    "        im = xxx_tmp.to(device)\n",
    "        vq_vae.eval()\n",
    "        model_cl.eval()\n",
    "        im, _ = vq_vae.encode(im)\n",
    "        out_cl = model_cl(im)\n",
    "        vvv_list.append(torch.softmax(out_cl.reshape((-1, n_clusters)), dim=1).detach().cpu().numpy())\n",
    "    vvv_10k = np.concatenate(vvv_list, axis=0)\n",
    "    print(vvv_10k.shape)"
   ]
  },
  {
   "cell_type": "code",
   "execution_count": 17,
   "id": "1437aad2",
   "metadata": {},
   "outputs": [],
   "source": [
    "C = []\n",
    "D = []\n",
    "\n",
    "for j in range(len(vvv_10k)):\n",
    "    hemp1 = vvv_10k[j, :]\n",
    "    hemp2 = np.argmax(hemp1)\n",
    "    hemp3 = hemp1[hemp2]\n",
    "    C.append(hemp2)\n",
    "    D.append(hemp3)"
   ]
  },
  {
   "cell_type": "code",
   "execution_count": 18,
   "id": "682c77a1",
   "metadata": {},
   "outputs": [
    {
     "data": {
      "text/html": [
       "<div>\n",
       "<style scoped>\n",
       "    .dataframe tbody tr th:only-of-type {\n",
       "        vertical-align: middle;\n",
       "    }\n",
       "\n",
       "    .dataframe tbody tr th {\n",
       "        vertical-align: top;\n",
       "    }\n",
       "\n",
       "    .dataframe thead th {\n",
       "        text-align: right;\n",
       "    }\n",
       "</style>\n",
       "<table border=\"1\" class=\"dataframe\">\n",
       "  <thead>\n",
       "    <tr style=\"text-align: right;\">\n",
       "      <th></th>\n",
       "      <th>0</th>\n",
       "      <th>1</th>\n",
       "      <th>2</th>\n",
       "      <th>3</th>\n",
       "      <th>4</th>\n",
       "      <th>5</th>\n",
       "      <th>6</th>\n",
       "      <th>7</th>\n",
       "      <th>8</th>\n",
       "      <th>9</th>\n",
       "      <th>10</th>\n",
       "      <th>11</th>\n",
       "      <th>12</th>\n",
       "      <th>13</th>\n",
       "      <th>14</th>\n",
       "      <th>15</th>\n",
       "      <th>16</th>\n",
       "      <th>17</th>\n",
       "    </tr>\n",
       "  </thead>\n",
       "  <tbody>\n",
       "    <tr>\n",
       "      <th>0</th>\n",
       "      <td>0.057595</td>\n",
       "      <td>0.067675</td>\n",
       "      <td>0.058129</td>\n",
       "      <td>0.042794</td>\n",
       "      <td>0.088442</td>\n",
       "      <td>0.053543</td>\n",
       "      <td>0.052616</td>\n",
       "      <td>0.055121</td>\n",
       "      <td>0.045779</td>\n",
       "      <td>0.049125</td>\n",
       "      <td>0.147163</td>\n",
       "      <td>0.070993</td>\n",
       "      <td>0.059063</td>\n",
       "      <td>0.038281</td>\n",
       "      <td>0.057689</td>\n",
       "      <td>0.055993</td>\n",
       "      <td>7</td>\n",
       "      <td>0.816475</td>\n",
       "    </tr>\n",
       "    <tr>\n",
       "      <th>1</th>\n",
       "      <td>0.026985</td>\n",
       "      <td>0.044292</td>\n",
       "      <td>0.073882</td>\n",
       "      <td>0.046256</td>\n",
       "      <td>0.029100</td>\n",
       "      <td>0.095295</td>\n",
       "      <td>0.029674</td>\n",
       "      <td>0.058982</td>\n",
       "      <td>0.041400</td>\n",
       "      <td>0.074020</td>\n",
       "      <td>0.216426</td>\n",
       "      <td>0.051991</td>\n",
       "      <td>0.098723</td>\n",
       "      <td>0.030846</td>\n",
       "      <td>0.039377</td>\n",
       "      <td>0.042751</td>\n",
       "      <td>11</td>\n",
       "      <td>0.523989</td>\n",
       "    </tr>\n",
       "    <tr>\n",
       "      <th>2</th>\n",
       "      <td>0.046284</td>\n",
       "      <td>0.076820</td>\n",
       "      <td>0.073665</td>\n",
       "      <td>0.052024</td>\n",
       "      <td>0.067470</td>\n",
       "      <td>0.056680</td>\n",
       "      <td>0.052943</td>\n",
       "      <td>0.051458</td>\n",
       "      <td>0.039607</td>\n",
       "      <td>0.045904</td>\n",
       "      <td>0.109663</td>\n",
       "      <td>0.085190</td>\n",
       "      <td>0.079527</td>\n",
       "      <td>0.045343</td>\n",
       "      <td>0.068510</td>\n",
       "      <td>0.048912</td>\n",
       "      <td>5</td>\n",
       "      <td>0.963012</td>\n",
       "    </tr>\n",
       "    <tr>\n",
       "      <th>3</th>\n",
       "      <td>0.047946</td>\n",
       "      <td>0.064063</td>\n",
       "      <td>0.072154</td>\n",
       "      <td>0.052653</td>\n",
       "      <td>0.081443</td>\n",
       "      <td>0.052867</td>\n",
       "      <td>0.045848</td>\n",
       "      <td>0.051086</td>\n",
       "      <td>0.042792</td>\n",
       "      <td>0.043281</td>\n",
       "      <td>0.131367</td>\n",
       "      <td>0.086240</td>\n",
       "      <td>0.075695</td>\n",
       "      <td>0.043938</td>\n",
       "      <td>0.062331</td>\n",
       "      <td>0.046297</td>\n",
       "      <td>1</td>\n",
       "      <td>0.996872</td>\n",
       "    </tr>\n",
       "    <tr>\n",
       "      <th>4</th>\n",
       "      <td>0.047029</td>\n",
       "      <td>0.076794</td>\n",
       "      <td>0.071956</td>\n",
       "      <td>0.051399</td>\n",
       "      <td>0.069204</td>\n",
       "      <td>0.062240</td>\n",
       "      <td>0.054918</td>\n",
       "      <td>0.051438</td>\n",
       "      <td>0.038797</td>\n",
       "      <td>0.043793</td>\n",
       "      <td>0.099919</td>\n",
       "      <td>0.085383</td>\n",
       "      <td>0.079885</td>\n",
       "      <td>0.046962</td>\n",
       "      <td>0.072355</td>\n",
       "      <td>0.047928</td>\n",
       "      <td>11</td>\n",
       "      <td>0.866706</td>\n",
       "    </tr>\n",
       "    <tr>\n",
       "      <th>...</th>\n",
       "      <td>...</td>\n",
       "      <td>...</td>\n",
       "      <td>...</td>\n",
       "      <td>...</td>\n",
       "      <td>...</td>\n",
       "      <td>...</td>\n",
       "      <td>...</td>\n",
       "      <td>...</td>\n",
       "      <td>...</td>\n",
       "      <td>...</td>\n",
       "      <td>...</td>\n",
       "      <td>...</td>\n",
       "      <td>...</td>\n",
       "      <td>...</td>\n",
       "      <td>...</td>\n",
       "      <td>...</td>\n",
       "      <td>...</td>\n",
       "      <td>...</td>\n",
       "    </tr>\n",
       "    <tr>\n",
       "      <th>9995</th>\n",
       "      <td>0.044612</td>\n",
       "      <td>0.065441</td>\n",
       "      <td>0.071401</td>\n",
       "      <td>0.051777</td>\n",
       "      <td>0.062607</td>\n",
       "      <td>0.068658</td>\n",
       "      <td>0.049010</td>\n",
       "      <td>0.052594</td>\n",
       "      <td>0.040162</td>\n",
       "      <td>0.048244</td>\n",
       "      <td>0.130337</td>\n",
       "      <td>0.081689</td>\n",
       "      <td>0.079808</td>\n",
       "      <td>0.043182</td>\n",
       "      <td>0.063388</td>\n",
       "      <td>0.047090</td>\n",
       "      <td>10</td>\n",
       "      <td>0.423563</td>\n",
       "    </tr>\n",
       "    <tr>\n",
       "      <th>9996</th>\n",
       "      <td>0.056497</td>\n",
       "      <td>0.065437</td>\n",
       "      <td>0.053226</td>\n",
       "      <td>0.039423</td>\n",
       "      <td>0.089269</td>\n",
       "      <td>0.064249</td>\n",
       "      <td>0.051970</td>\n",
       "      <td>0.057516</td>\n",
       "      <td>0.047392</td>\n",
       "      <td>0.046376</td>\n",
       "      <td>0.151992</td>\n",
       "      <td>0.064658</td>\n",
       "      <td>0.059062</td>\n",
       "      <td>0.038185</td>\n",
       "      <td>0.061075</td>\n",
       "      <td>0.053672</td>\n",
       "      <td>2</td>\n",
       "      <td>0.891099</td>\n",
       "    </tr>\n",
       "    <tr>\n",
       "      <th>9997</th>\n",
       "      <td>0.054370</td>\n",
       "      <td>0.064864</td>\n",
       "      <td>0.056473</td>\n",
       "      <td>0.041826</td>\n",
       "      <td>0.088380</td>\n",
       "      <td>0.068515</td>\n",
       "      <td>0.051165</td>\n",
       "      <td>0.057697</td>\n",
       "      <td>0.047390</td>\n",
       "      <td>0.044725</td>\n",
       "      <td>0.140883</td>\n",
       "      <td>0.068395</td>\n",
       "      <td>0.061810</td>\n",
       "      <td>0.040132</td>\n",
       "      <td>0.061950</td>\n",
       "      <td>0.051425</td>\n",
       "      <td>4</td>\n",
       "      <td>0.742577</td>\n",
       "    </tr>\n",
       "    <tr>\n",
       "      <th>9998</th>\n",
       "      <td>0.056979</td>\n",
       "      <td>0.064283</td>\n",
       "      <td>0.054015</td>\n",
       "      <td>0.038850</td>\n",
       "      <td>0.095660</td>\n",
       "      <td>0.059166</td>\n",
       "      <td>0.050250</td>\n",
       "      <td>0.057395</td>\n",
       "      <td>0.048686</td>\n",
       "      <td>0.047209</td>\n",
       "      <td>0.160208</td>\n",
       "      <td>0.064804</td>\n",
       "      <td>0.056229</td>\n",
       "      <td>0.036626</td>\n",
       "      <td>0.055360</td>\n",
       "      <td>0.054280</td>\n",
       "      <td>12</td>\n",
       "      <td>0.934176</td>\n",
       "    </tr>\n",
       "    <tr>\n",
       "      <th>9999</th>\n",
       "      <td>0.055342</td>\n",
       "      <td>0.064276</td>\n",
       "      <td>0.055918</td>\n",
       "      <td>0.040928</td>\n",
       "      <td>0.086573</td>\n",
       "      <td>0.066923</td>\n",
       "      <td>0.051116</td>\n",
       "      <td>0.057339</td>\n",
       "      <td>0.047543</td>\n",
       "      <td>0.046833</td>\n",
       "      <td>0.149514</td>\n",
       "      <td>0.066442</td>\n",
       "      <td>0.061005</td>\n",
       "      <td>0.038284</td>\n",
       "      <td>0.058890</td>\n",
       "      <td>0.053074</td>\n",
       "      <td>2</td>\n",
       "      <td>0.998801</td>\n",
       "    </tr>\n",
       "  </tbody>\n",
       "</table>\n",
       "<p>10000 rows × 18 columns</p>\n",
       "</div>"
      ],
      "text/plain": [
       "             0         1         2         3         4         5         6  \\\n",
       "0     0.057595  0.067675  0.058129  0.042794  0.088442  0.053543  0.052616   \n",
       "1     0.026985  0.044292  0.073882  0.046256  0.029100  0.095295  0.029674   \n",
       "2     0.046284  0.076820  0.073665  0.052024  0.067470  0.056680  0.052943   \n",
       "3     0.047946  0.064063  0.072154  0.052653  0.081443  0.052867  0.045848   \n",
       "4     0.047029  0.076794  0.071956  0.051399  0.069204  0.062240  0.054918   \n",
       "...        ...       ...       ...       ...       ...       ...       ...   \n",
       "9995  0.044612  0.065441  0.071401  0.051777  0.062607  0.068658  0.049010   \n",
       "9996  0.056497  0.065437  0.053226  0.039423  0.089269  0.064249  0.051970   \n",
       "9997  0.054370  0.064864  0.056473  0.041826  0.088380  0.068515  0.051165   \n",
       "9998  0.056979  0.064283  0.054015  0.038850  0.095660  0.059166  0.050250   \n",
       "9999  0.055342  0.064276  0.055918  0.040928  0.086573  0.066923  0.051116   \n",
       "\n",
       "             7         8         9        10        11        12        13  \\\n",
       "0     0.055121  0.045779  0.049125  0.147163  0.070993  0.059063  0.038281   \n",
       "1     0.058982  0.041400  0.074020  0.216426  0.051991  0.098723  0.030846   \n",
       "2     0.051458  0.039607  0.045904  0.109663  0.085190  0.079527  0.045343   \n",
       "3     0.051086  0.042792  0.043281  0.131367  0.086240  0.075695  0.043938   \n",
       "4     0.051438  0.038797  0.043793  0.099919  0.085383  0.079885  0.046962   \n",
       "...        ...       ...       ...       ...       ...       ...       ...   \n",
       "9995  0.052594  0.040162  0.048244  0.130337  0.081689  0.079808  0.043182   \n",
       "9996  0.057516  0.047392  0.046376  0.151992  0.064658  0.059062  0.038185   \n",
       "9997  0.057697  0.047390  0.044725  0.140883  0.068395  0.061810  0.040132   \n",
       "9998  0.057395  0.048686  0.047209  0.160208  0.064804  0.056229  0.036626   \n",
       "9999  0.057339  0.047543  0.046833  0.149514  0.066442  0.061005  0.038284   \n",
       "\n",
       "            14        15  16        17  \n",
       "0     0.057689  0.055993   7  0.816475  \n",
       "1     0.039377  0.042751  11  0.523989  \n",
       "2     0.068510  0.048912   5  0.963012  \n",
       "3     0.062331  0.046297   1  0.996872  \n",
       "4     0.072355  0.047928  11  0.866706  \n",
       "...        ...       ...  ..       ...  \n",
       "9995  0.063388  0.047090  10  0.423563  \n",
       "9996  0.061075  0.053672   2  0.891099  \n",
       "9997  0.061950  0.051425   4  0.742577  \n",
       "9998  0.055360  0.054280  12  0.934176  \n",
       "9999  0.058890  0.053074   2  0.998801  \n",
       "\n",
       "[10000 rows x 18 columns]"
      ]
     },
     "execution_count": 18,
     "metadata": {},
     "output_type": "execute_result"
    }
   ],
   "source": [
    "DF = pd.DataFrame(a)\n",
    "DF['16'] = C\n",
    "DF['17'] = D\n",
    "DF"
   ]
  },
  {
   "cell_type": "markdown",
   "id": "f11a3a67",
   "metadata": {},
   "source": [
    "### 11. Save in a `CSV` file"
   ]
  },
  {
   "cell_type": "code",
   "execution_count": 19,
   "id": "13b6dd86",
   "metadata": {},
   "outputs": [],
   "source": [
    "DF.to_csv(f'HHH{n_clusters}_C{n_clusters}_D{n_clusters}.csv', index=None, header=None)"
   ]
  }
 ],
 "metadata": {
  "kernelspec": {
   "display_name": "Python 3 (ipykernel)",
   "language": "python",
   "name": "python3"
  },
  "language_info": {
   "codemirror_mode": {
    "name": "ipython",
    "version": 3
   },
   "file_extension": ".py",
   "mimetype": "text/x-python",
   "name": "python",
   "nbconvert_exporter": "python",
   "pygments_lexer": "ipython3",
   "version": "3.9.13"
  }
 },
 "nbformat": 4,
 "nbformat_minor": 5
}
