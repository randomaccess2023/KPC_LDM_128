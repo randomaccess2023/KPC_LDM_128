{
 "cells": [
  {
   "cell_type": "markdown",
   "id": "5ccb74b9",
   "metadata": {},
   "source": [
    "# <center>This `.ipynb` file contains the code for computing the SSIM metric</center>"
   ]
  },
  {
   "cell_type": "markdown",
   "id": "dc3b3966",
   "metadata": {},
   "source": [
    "### 1. Import the required libraries"
   ]
  },
  {
   "cell_type": "code",
   "execution_count": 1,
   "id": "bbb00e50",
   "metadata": {},
   "outputs": [],
   "source": [
    "import os\n",
    "import numpy as np\n",
    "from skimage.metrics import structural_similarity as ssim\n",
    "from skimage.io import imread\n",
    "from tqdm import tqdm\n",
    "from multiprocessing import Pool"
   ]
  },
  {
   "cell_type": "markdown",
   "id": "5e159e97",
   "metadata": {},
   "source": [
    "### 2. Custom function for calculating the `SSIM` metric"
   ]
  },
  {
   "cell_type": "code",
   "execution_count": 2,
   "id": "80aeeefb",
   "metadata": {},
   "outputs": [],
   "source": [
    "def calculate_ssim(img1, img2):\n",
    "    return ssim(img1, img2, win_size=3, multichannel=True)"
   ]
  },
  {
   "cell_type": "markdown",
   "id": "fa3d26b5",
   "metadata": {},
   "source": [
    "### 3. Custom function for loading images"
   ]
  },
  {
   "cell_type": "code",
   "execution_count": 3,
   "id": "2f59abdd",
   "metadata": {},
   "outputs": [],
   "source": [
    "def load_image(filepath):\n",
    "    return imread(filepath)"
   ]
  },
  {
   "cell_type": "markdown",
   "id": "dcd49df0",
   "metadata": {},
   "source": [
    "### 4. Prepare to calculate the `SSIM` metric"
   ]
  },
  {
   "cell_type": "code",
   "execution_count": 4,
   "id": "9ca65550",
   "metadata": {},
   "outputs": [],
   "source": [
    "def parallel_ssim(real_generated_pair):\n",
    "    \n",
    "    real_path, generated_path = real_generated_pair\n",
    "    real_img = load_image(real_path)\n",
    "    generated_img = load_image(generated_path)\n",
    "    \n",
    "    return calculate_ssim(real_img, generated_img)"
   ]
  },
  {
   "cell_type": "code",
   "execution_count": 5,
   "id": "12953f54",
   "metadata": {},
   "outputs": [],
   "source": [
    "def batch_process_ssim_parallel(real_dir, gen_dir, batch_size=32):\n",
    "    \n",
    "    real_images = sorted([os.path.join(real_dir, f) for f in os.listdir(real_dir) if f.endswith(('jpg'))])\n",
    "    gen_images = sorted([os.path.join(gen_dir, f) for f in os.listdir(gen_dir) if f.endswith(('jpg'))])\n",
    "    \n",
    "    assert len(real_images) == len(gen_images), 'Mismatch in the number of images between real and generated directories'\n",
    "    \n",
    "    pairs = list(zip(real_images, gen_images))\n",
    "    \n",
    "    with Pool() as pool:\n",
    "        ssim_values = list(tqdm(pool.imap(parallel_ssim, pairs), total=len(pairs)))\n",
    "        \n",
    "    return ssim_values"
   ]
  },
  {
   "cell_type": "markdown",
   "id": "8b6fd57a",
   "metadata": {},
   "source": [
    "### 6. Show the result"
   ]
  },
  {
   "cell_type": "code",
   "execution_count": 6,
   "id": "1e9eb31f",
   "metadata": {},
   "outputs": [
    {
     "name": "stdout",
     "output_type": "stream",
     "text": [
      "Total images in real_dir: 10000\n",
      "Total images in generated_dir: 10000\n"
     ]
    },
    {
     "name": "stderr",
     "output_type": "stream",
     "text": [
      "100%|████████████████████████████████████████████████████████████████████████████| 10000/10000 [00:43<00:00, 232.53it/s]"
     ]
    },
    {
     "name": "stdout",
     "output_type": "stream",
     "text": [
      "Mean SSIM: 0.7988\n"
     ]
    },
    {
     "name": "stderr",
     "output_type": "stream",
     "text": [
      "\n"
     ]
    }
   ],
   "source": [
    "select_batch_size = 50\n",
    "\n",
    "real_dir = '../org'\n",
    "print('Total images in real_dir:', len(next(os.walk(real_dir))[2]))\n",
    "\n",
    "generated_dir =  'gen_14'\n",
    "print('Total images in generated_dir:', len(next(os.walk(generated_dir))[2]))\n",
    "\n",
    "ssim_scores = batch_process_ssim_parallel(real_dir, generated_dir, batch_size=select_batch_size)\n",
    "print(f'Mean SSIM: {np.mean(ssim_scores):.4f}')"
   ]
  }
 ],
 "metadata": {
  "kernelspec": {
   "display_name": "Python 3 (ipykernel)",
   "language": "python",
   "name": "python3"
  },
  "language_info": {
   "codemirror_mode": {
    "name": "ipython",
    "version": 3
   },
   "file_extension": ".py",
   "mimetype": "text/x-python",
   "name": "python",
   "nbconvert_exporter": "python",
   "pygments_lexer": "ipython3",
   "version": "3.9.13"
  }
 },
 "nbformat": 4,
 "nbformat_minor": 5
}
