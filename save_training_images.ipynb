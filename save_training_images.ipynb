{
 "cells": [
  {
   "cell_type": "markdown",
   "id": "5167ecbc",
   "metadata": {},
   "source": [
    "# <center>This `.ipynb` file contains the code for saving the training images in the `org` folder for carrying out image evaluation later</center>"
   ]
  },
  {
   "cell_type": "markdown",
   "id": "eee89d33",
   "metadata": {},
   "source": [
    "### 1. Import the required libraries"
   ]
  },
  {
   "cell_type": "code",
   "execution_count": null,
   "id": "d81f5744",
   "metadata": {},
   "outputs": [],
   "source": [
    "import torch\n",
    "import os\n",
    "import random\n",
    "import numpy as np\n",
    "import matplotlib.pyplot as plt"
   ]
  },
  {
   "cell_type": "markdown",
   "id": "ecf420f2",
   "metadata": {},
   "source": [
    "### 2. Define the device"
   ]
  },
  {
   "cell_type": "code",
   "execution_count": null,
   "id": "f560afbb",
   "metadata": {},
   "outputs": [],
   "source": [
    "device = torch.device('cuda' if torch.cuda.is_available() else 'cpu')\n",
    "print('Device is:', device)"
   ]
  },
  {
   "cell_type": "markdown",
   "id": "5daf9ddf",
   "metadata": {},
   "source": [
    "### 3. Set different hyperparameters"
   ]
  },
  {
   "cell_type": "code",
   "execution_count": null,
   "id": "35cba90c",
   "metadata": {},
   "outputs": [],
   "source": [
    "seed = 765\n",
    "\n",
    "random.seed(seed)\n",
    "np.random.seed(seed)\n",
    "torch.manual_seed(seed)\n",
    "\n",
    "if device == 'cuda':\n",
    "    torch.cuda.manual_seed(seed)\n",
    "    torch.cuda.manual_seed_all(seed)"
   ]
  },
  {
   "cell_type": "markdown",
   "id": "ddf46079",
   "metadata": {},
   "source": [
    "### 4. Load the dataset"
   ]
  },
  {
   "cell_type": "code",
   "execution_count": null,
   "id": "a1a604a6",
   "metadata": {},
   "outputs": [],
   "source": [
    "dir_src = '/project/dsc-is/nono/Documents/kpc/dat0'\n",
    "data_src = 'slice128_Block2_11K.npy'\n",
    "\n",
    "print(os.path.join(dir_src, data_src))\n",
    "\n",
    "kpc_dataset = np.load(os.path.join(dir_src, data_src))\n",
    "kpc_dataset = kpc_dataset[:, 0, :, :, :]\n",
    "\n",
    "print(kpc_dataset.shape)\n",
    "N_SAMPLE, HEIGHT, WIDTH, CHANNELS = kpc_dataset.shape"
   ]
  },
  {
   "cell_type": "markdown",
   "id": "836b87a1",
   "metadata": {},
   "source": [
    "### 5. Save training images"
   ]
  },
  {
   "cell_type": "code",
   "execution_count": null,
   "id": "f5aaeac1",
   "metadata": {},
   "outputs": [],
   "source": [
    "for j in range(len(kpc_dataset[:10000])): # first 10000 are training images; last 1000 are test images\n",
    "    print(j+1)\n",
    "    plt.figure(figsize=(1, 1))\n",
    "    plt.imshow(kpc_dataset[j])\n",
    "    plt.axis(False)\n",
    "    plt.savefig(f'org/{j+1}.jpg', dpi=300, bbox_inches='tight', pad_inches=0)\n",
    "    plt.show()"
   ]
  }
 ],
 "metadata": {
  "kernelspec": {
   "display_name": "Python 3 (ipykernel)",
   "language": "python",
   "name": "python3"
  },
  "language_info": {
   "codemirror_mode": {
    "name": "ipython",
    "version": 3
   },
   "file_extension": ".py",
   "mimetype": "text/x-python",
   "name": "python",
   "nbconvert_exporter": "python",
   "pygments_lexer": "ipython3",
   "version": "3.9.13"
  }
 },
 "nbformat": 4,
 "nbformat_minor": 5
}
