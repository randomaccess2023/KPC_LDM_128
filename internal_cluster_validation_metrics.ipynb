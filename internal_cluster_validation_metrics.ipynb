{
 "cells": [
  {
   "cell_type": "markdown",
   "id": "a36c522e",
   "metadata": {},
   "source": [
    "# <center>This `.ipynb` file contains the code for computing the internal cluster validation metrics</center>"
   ]
  },
  {
   "cell_type": "markdown",
   "id": "c645d035",
   "metadata": {},
   "source": [
    "### 1. Import the required libraries"
   ]
  },
  {
   "cell_type": "code",
   "execution_count": 1,
   "id": "f56d5e2e",
   "metadata": {},
   "outputs": [],
   "source": [
    "from MODULE.ClustersFeatures import ClustersCharacteristics\n",
    "import pandas as pd"
   ]
  },
  {
   "cell_type": "markdown",
   "id": "00b73adb",
   "metadata": {},
   "source": [
    "### 2. Load latent space of all cluster sets"
   ]
  },
  {
   "cell_type": "code",
   "execution_count": 2,
   "id": "335aa8f6",
   "metadata": {},
   "outputs": [],
   "source": [
    "latent_10 = pd.read_csv('clusters_10/HHH10_C10_D10.csv', header=None)\n",
    "latent_11 = pd.read_csv('clusters_11/HHH11_C11_D11.csv', header=None)\n",
    "latent_12 = pd.read_csv('clusters_12/HHH12_C12_D12.csv', header=None)\n",
    "latent_13 = pd.read_csv('clusters_13/HHH13_C13_D13.csv', header=None)\n",
    "latent_14 = pd.read_csv('clusters_14/HHH14_C14_D14.csv', header=None)\n",
    "latent_15 = pd.read_csv('clusters_15/HHH15_C15_D15.csv', header=None)\n",
    "latent_16 = pd.read_csv('clusters_16/HHH16_C16_D16.csv', header=None)"
   ]
  },
  {
   "cell_type": "markdown",
   "id": "0a95114c",
   "metadata": {},
   "source": [
    "### 3. Rename the label column"
   ]
  },
  {
   "cell_type": "code",
   "execution_count": 3,
   "id": "f0ab6727",
   "metadata": {},
   "outputs": [],
   "source": [
    "df10 = latent_10.loc[:, 0:16]\n",
    "df10.rename(columns={16: 'class'}, inplace=True)\n",
    "df11 = latent_11.loc[:, 0:16]\n",
    "df11.rename(columns={16: 'class'}, inplace=True)\n",
    "df12 = latent_12.loc[:, 0:16]\n",
    "df12.rename(columns={16: 'class'}, inplace=True)\n",
    "df13 = latent_13.loc[:, 0:16]\n",
    "df13.rename(columns={16: 'class'}, inplace=True)\n",
    "df14 = latent_14.loc[:, 0:16]\n",
    "df14.rename(columns={16: 'class'}, inplace=True)\n",
    "df15 = latent_15.loc[:, 0:16]\n",
    "df15.rename(columns={16: 'class'}, inplace=True)\n",
    "df16 = latent_16.loc[:, 0:16]\n",
    "df16.rename(columns={16: 'class'}, inplace=True)"
   ]
  },
  {
   "cell_type": "markdown",
   "id": "15a79543",
   "metadata": {},
   "source": [
    "### 4. Specify the label column"
   ]
  },
  {
   "cell_type": "code",
   "execution_count": 4,
   "id": "e56f645d",
   "metadata": {},
   "outputs": [],
   "source": [
    "cc10 = ClustersCharacteristics(df10, label_target='class')\n",
    "cc11 = ClustersCharacteristics(df11, label_target='class')\n",
    "cc12 = ClustersCharacteristics(df12, label_target='class')\n",
    "cc13 = ClustersCharacteristics(df13, label_target='class')\n",
    "cc14 = ClustersCharacteristics(df14, label_target='class')\n",
    "cc15 = ClustersCharacteristics(df15, label_target='class')\n",
    "cc16 = ClustersCharacteristics(df16, label_target='class')"
   ]
  },
  {
   "cell_type": "markdown",
   "id": "63ee7ca9",
   "metadata": {},
   "source": [
    "### 5. Calculate different internal cluster validation metrics"
   ]
  },
  {
   "cell_type": "code",
   "execution_count": 6,
   "id": "c330091f",
   "metadata": {},
   "outputs": [
    {
     "name": "stdout",
     "output_type": "stream",
     "text": [
      "Calinski-Harabasz index (10-clusters): 2142.54026\n",
      "Calinski-Harabasz index (11-clusters): 2866.86433\n",
      "Calinski-Harabasz index (12-clusters): 1865.81774\n",
      "Calinski-Harabasz index (13-clusters): 2836.2272\n",
      "Calinski-Harabasz index (14-clusters): 3367.74211\n",
      "Calinski-Harabasz index (15-clusters): 2027.82944\n",
      "Calinski-Harabasz index (16-clusters): 2603.28507\n"
     ]
    }
   ],
   "source": [
    "print('Calinski-Harabasz index (10-clusters):', round(cc10.score_index_calinski_harabasz(), 5))\n",
    "print('Calinski-Harabasz index (11-clusters):', round(cc11.score_index_calinski_harabasz(), 5))\n",
    "print('Calinski-Harabasz index (12-clusters):', round(cc12.score_index_calinski_harabasz(), 5))\n",
    "print('Calinski-Harabasz index (13-clusters):', round(cc13.score_index_calinski_harabasz(), 5))\n",
    "print('Calinski-Harabasz index (14-clusters):', round(cc14.score_index_calinski_harabasz(), 5))\n",
    "print('Calinski-Harabasz index (15-clusters):', round(cc15.score_index_calinski_harabasz(), 5))\n",
    "print('Calinski-Harabasz index (16-clusters):', round(cc16.score_index_calinski_harabasz(), 5))"
   ]
  },
  {
   "cell_type": "markdown",
   "id": "4fa8d71a",
   "metadata": {},
   "source": [
    "### Higher value of `Calinski-Harabasz index` indicates better clustering"
   ]
  },
  {
   "cell_type": "code",
   "execution_count": 7,
   "id": "6896699b",
   "metadata": {},
   "outputs": [
    {
     "name": "stdout",
     "output_type": "stream",
     "text": [
      "C index (10-clusters): 0.12234\n",
      "C index (11-clusters): 0.10477\n",
      "C index (12-clusters): 0.12042\n",
      "C index (13-clusters): 0.09131\n",
      "C index (14-clusters): 0.07645\n",
      "C index (15-clusters): 0.10489\n",
      "C index (16-clusters): 0.08615\n"
     ]
    }
   ],
   "source": [
    "print('C index (10-clusters):', round(cc10.score_index_c(), 5))\n",
    "print('C index (11-clusters):', round(cc11.score_index_c(), 5))\n",
    "print('C index (12-clusters):', round(cc12.score_index_c(), 5))\n",
    "print('C index (13-clusters):', round(cc13.score_index_c(), 5))\n",
    "print('C index (14-clusters):', round(cc14.score_index_c(), 5))\n",
    "print('C index (15-clusters):', round(cc15.score_index_c(), 5))\n",
    "print('C index (16-clusters):', round(cc16.score_index_c(), 5))"
   ]
  },
  {
   "cell_type": "markdown",
   "id": "d1e74f2d",
   "metadata": {},
   "source": [
    "### Lower value of `C index` indicates better clustering."
   ]
  },
  {
   "cell_type": "code",
   "execution_count": 8,
   "id": "6f1944aa",
   "metadata": {},
   "outputs": [
    {
     "name": "stdout",
     "output_type": "stream",
     "text": [
      "Dunn index (10-clusters): 0.00441\n",
      "Dunn index (11-clusters): 0.00477\n",
      "Dunn index (12-clusters): 0.00463\n",
      "Dunn index (13-clusters): 0.00424\n",
      "Dunn index (14-clusters): 0.00548\n",
      "Dunn index (15-clusters): 0.00424\n",
      "Dunn index (16-clusters): 0.0049\n"
     ]
    }
   ],
   "source": [
    "print('Dunn index (10-clusters):', round(cc10.score_index_dunn(), 5))\n",
    "print('Dunn index (11-clusters):', round(cc11.score_index_dunn(), 5))\n",
    "print('Dunn index (12-clusters):', round(cc12.score_index_dunn(), 5))\n",
    "print('Dunn index (13-clusters):', round(cc13.score_index_dunn(), 5))\n",
    "print('Dunn index (14-clusters):', round(cc14.score_index_dunn(), 5))\n",
    "print('Dunn index (15-clusters):', round(cc15.score_index_dunn(), 5))\n",
    "print('Dunn index (16-clusters):', round(cc16.score_index_dunn(), 5))"
   ]
  },
  {
   "cell_type": "markdown",
   "id": "c6dcdc9a",
   "metadata": {},
   "source": [
    "### Higher value of `Dunn index` indicates better clustering."
   ]
  },
  {
   "cell_type": "code",
   "execution_count": 9,
   "id": "a47b27a3",
   "metadata": {},
   "outputs": [
    {
     "name": "stdout",
     "output_type": "stream",
     "text": [
      "Hartigan index (10-clusters): 0.65763\n",
      "Hartigan index (11-clusters): 1.05432\n",
      "Hartigan index (12-clusters): 0.72021\n",
      "Hartigan index (13-clusters): 1.2261\n",
      "Hartigan index (14-clusters): 1.47801\n",
      "Hartigan index (15-clusters): 1.04494\n",
      "Hartigan index (16-clusters): 1.36384\n"
     ]
    }
   ],
   "source": [
    "print('Hartigan index (10-clusters):', round(cc10.score_index_log_ss_ratio(), 5))\n",
    "print('Hartigan index (11-clusters):', round(cc11.score_index_log_ss_ratio(), 5))\n",
    "print('Hartigan index (12-clusters):', round(cc12.score_index_log_ss_ratio(), 5))\n",
    "print('Hartigan index (13-clusters):', round(cc13.score_index_log_ss_ratio(), 5))\n",
    "print('Hartigan index (14-clusters):', round(cc14.score_index_log_ss_ratio(), 5))\n",
    "print('Hartigan index (15-clusters):', round(cc15.score_index_log_ss_ratio(), 5))\n",
    "print('Hartigan index (16-clusters):', round(cc16.score_index_log_ss_ratio(), 5))"
   ]
  },
  {
   "cell_type": "markdown",
   "id": "354cbe17",
   "metadata": {},
   "source": [
    "### Higher value of `Hartigan index` indicates better clustering."
   ]
  },
  {
   "cell_type": "code",
   "execution_count": 10,
   "id": "7f5f0b62",
   "metadata": {},
   "outputs": [
    {
     "name": "stdout",
     "output_type": "stream",
     "text": [
      "Mclain-Rao index (10-clusters): 0.54631\n",
      "Mclain-Rao index (11-clusters): 0.49791\n",
      "Mclain-Rao index (12-clusters): 0.55443\n",
      "Mclain-Rao index (13-clusters): 0.46335\n",
      "Mclain-Rao index (14-clusters): 0.41643\n",
      "Mclain-Rao index (15-clusters): 0.51414\n",
      "Mclain-Rao index (16-clusters): 0.45223\n"
     ]
    }
   ],
   "source": [
    "print('Mclain-Rao index (10-clusters):', round(cc10.score_index_mclain_rao(), 5))\n",
    "print('Mclain-Rao index (11-clusters):', round(cc11.score_index_mclain_rao(), 5))\n",
    "print('Mclain-Rao index (12-clusters):', round(cc12.score_index_mclain_rao(), 5))\n",
    "print('Mclain-Rao index (13-clusters):', round(cc13.score_index_mclain_rao(), 5))\n",
    "print('Mclain-Rao index (14-clusters):', round(cc14.score_index_mclain_rao(), 5))\n",
    "print('Mclain-Rao index (15-clusters):', round(cc15.score_index_mclain_rao(), 5))\n",
    "print('Mclain-Rao index (16-clusters):', round(cc16.score_index_mclain_rao(), 5))"
   ]
  },
  {
   "cell_type": "markdown",
   "id": "2b9ad00a",
   "metadata": {},
   "source": [
    "### Lower value of `Mclain-Rao index` indicates better clustering."
   ]
  }
 ],
 "metadata": {
  "kernelspec": {
   "display_name": "Python 3 (ipykernel)",
   "language": "python",
   "name": "python3"
  },
  "language_info": {
   "codemirror_mode": {
    "name": "ipython",
    "version": 3
   },
   "file_extension": ".py",
   "mimetype": "text/x-python",
   "name": "python",
   "nbconvert_exporter": "python",
   "pygments_lexer": "ipython3",
   "version": "3.9.13"
  }
 },
 "nbformat": 4,
 "nbformat_minor": 5
}
